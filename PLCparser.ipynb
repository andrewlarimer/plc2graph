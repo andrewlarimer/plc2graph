{
 "cells": [
  {
   "cell_type": "code",
   "execution_count": 1,
   "metadata": {},
   "outputs": [],
   "source": [
    "import networkx as nx\n",
    "import re\n",
    "from collections import deque # for popping from the left of a list\n",
    "import matplotlib.pyplot as plt\n",
    "%matplotlib inline"
   ]
  },
  {
   "cell_type": "code",
   "execution_count": 2,
   "metadata": {},
   "outputs": [],
   "source": [
    "SEQUENCE = \"[XIC(A) [XIC(B) ,XIC(C) ] ,XIO(A) XIC(D) ]TON(E);\"\n",
    "STARTING_NODE_NAME = 'Start'\n",
    "\n",
    "# We remove spaces as they seem inconsistent and we don't need them.\n",
    "spaces_removed_seq = re.sub(' ','',SEQUENCE)"
   ]
  },
  {
   "cell_type": "code",
   "execution_count": 3,
   "metadata": {},
   "outputs": [],
   "source": [
    "# Instantiate our directional graph and add a starting node.\n",
    "G = nx.DiGraph()\n",
    "G.add_node(STARTING_NODE_NAME)\n",
    "\n",
    "# We'll do this recursively in case there are a lot of nested\n",
    "# parallel structures, so we create a tuple with the node we're\n",
    "# starting from and the string we'll be working from. We're storing\n",
    "# it as a deque to be able to efficiently 'pop' the next list from the\n",
    "# left side without having to recopy the list. Probably unnecessary\n",
    "# but it's fun to use the optimized collections.\n",
    "paths_to_traverse = deque([(STARTING_NODE_NAME,spaces_removed_seq)])"
   ]
  },
  {
   "cell_type": "code",
   "execution_count": 4,
   "metadata": {},
   "outputs": [
    {
     "name": "stdout",
     "output_type": "stream",
     "text": [
      "Picking up from Start to map sequence: [XIC(A)[XIC(B),XIC(C)],XIO(A)XIC(D)]TON(E);\n",
      "Adding edge from Start to XIC(A)\n",
      "Working from XIC(A)\n",
      "Picking back up from Start\n",
      "Adding edge from Start to XIO(A)\n",
      "Working from XIO(A)\n",
      "Adding edge from XIO(A) to XIC(D)\n",
      "Working from XIC(D)\n",
      "Picking up from XIC(A) to map sequence: [XIC(B),XIC(C)]\n",
      "Adding edge from XIC(A) to XIC(B)\n",
      "Working from XIC(B)\n",
      "Picking back up from XIC(A)\n",
      "Adding edge from XIC(A) to XIC(C)\n",
      "Working from XIC(C)\n",
      "Terminating to TON(E).\n"
     ]
    }
   ],
   "source": [
    "# Assuming all nodes terminate at that final node beginning with a T\n",
    "# we'll keep track of stragglers here.\n",
    "nodes_needing_termination = set()\n",
    "\n",
    "# Now we begin our recursion\n",
    "while paths_to_traverse:\n",
    "    \n",
    "    # Variables we'll need to handle branching and saving\n",
    "    # 'closures' of subsequences we'll revisit on another\n",
    "    # pass.\n",
    "    brackets_needing_closure = 0\n",
    "    start_of_closure_to_buffer = 0\n",
    "    branching_from_node = None\n",
    "    \n",
    "    # We get our currently active node and the sequence we're parsing\n",
    "    current_node_name, work_seq = paths_to_traverse.popleft()\n",
    "    print(f\"Picking up from {current_node_name} to map sequence: {work_seq}\")\n",
    "\n",
    "    # Now for the main loop. We need the index and we'll go character by character\n",
    "    for idx,char in enumerate(work_seq):\n",
    "        \n",
    "        # An X is the start of a new node, so we'll make it\n",
    "        # and add an edge from our currently active node,\n",
    "        # then update this new node to be our active one.\n",
    "        if char in {'X'} and brackets_needing_closure <= 1:\n",
    "            next_node_name = work_seq[idx:idx+6]\n",
    "            G.add_node(next_node_name)\n",
    "            G.add_edge(current_node_name, next_node_name)\n",
    "            print(f\"Adding edge from {current_node_name} to {next_node_name}\")\n",
    "            try:\n",
    "                # If a node has a 'follower' it's no longer\n",
    "                # in need of final termination\n",
    "                nodes_needing_termination.remove(current_node_name)\n",
    "            except:\n",
    "                pass\n",
    "            # Now the next node in sequence becomes our 'active'\n",
    "            # node, and we add it to require termination\n",
    "            current_node_name = next_node_name\n",
    "            nodes_needing_termination.add(current_node_name)\n",
    "            print(f\"Working from {current_node_name}\")\n",
    "        # An open bracket says we're starting a nested structure,\n",
    "        # so let's keep track of how deep we are. We only want to\n",
    "        # handle one layer of parallelization at a time, so if we\n",
    "        # go deeper than that, we'll focus on saving the deeper string\n",
    "        # for another pass later on.\n",
    "        elif char == '[':\n",
    "            brackets_needing_closure += 1\n",
    "            if brackets_needing_closure == 1:\n",
    "                branching_from_node = current_node_name\n",
    "            elif brackets_needing_closure == 2:\n",
    "                start_of_closure_to_buffer = idx\n",
    "        # If we back out to be back on our current top level of the sequence\n",
    "        # (or one layer deep in brackets), we can go ahead and write that\n",
    "        # deeper structure to our list of sequences to revisit.\n",
    "        elif char == ']':\n",
    "            brackets_needing_closure -= 1\n",
    "            if brackets_needing_closure == 1:\n",
    "                paths_to_traverse.append((current_node_name,work_seq[start_of_closure_to_buffer:idx+1]))\n",
    "        # A comma tells us to stop working from the currently active path and pick up\n",
    "        # from the last branch\n",
    "        elif char ==',' and brackets_needing_closure <= 1:\n",
    "            current_node_name = branching_from_node\n",
    "            print(f\"Picking back up from {current_node_name}\")\n",
    "        # The terminating node (if that's what T stands for) tells us\n",
    "        # to add that final node\n",
    "        elif char =='T':\n",
    "            terminating_node_name = work_seq[idx:idx+6]\n",
    "            G.add_node(terminating_node_name)\n",
    "\n",
    "# Then we terminate all our loose ends.\n",
    "print(f\"Terminating to {terminating_node_name}.\")\n",
    "for unterminated_node in nodes_needing_termination:\n",
    "    G.add_edge(unterminated_node, terminating_node_name)"
   ]
  },
  {
   "cell_type": "markdown",
   "metadata": {},
   "source": [
    "(I'm pretty sure NetworkX / PyPlot has some hierarchy so you could get this to draw more sequentially left to right rather than this spring, but I'll leave that to you to sort out, if you even need that. But at least you can see that the correct nodes connect.)"
   ]
  },
  {
   "cell_type": "code",
   "execution_count": 5,
   "metadata": {},
   "outputs": [
    {
     "data": {
      "image/png": "[encoded data removed]",
      "text/plain": [
       "<Figure size 432x288 with 1 Axes>"
      ]
     },
     "metadata": {},
     "output_type": "display_data"
    }
   ],
   "source": [
    "nx.draw(G, with_labels=True)\n",
    "plt.show()"
   ]
  },
  {
   "cell_type": "code",
   "execution_count": null,
   "metadata": {},
   "outputs": [],
   "source": []
  }
 ],
 "metadata": {
  "kernelspec": {
   "display_name": "Python [conda env:ear]",
   "language": "python",
   "name": "conda-env-ear-py"
  },
  "language_info": {
   "codemirror_mode": {
    "name": "ipython",
    "version": 3
   },
   "file_extension": ".py",
   "mimetype": "text/x-python",
   "name": "python",
   "nbconvert_exporter": "python",
   "pygments_lexer": "ipython3",
   "version": "3.6.5"
  }
 },
 "nbformat": 4,
 "nbformat_minor": 2
}
