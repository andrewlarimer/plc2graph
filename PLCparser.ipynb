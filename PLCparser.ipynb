{
 "cells": [
  {
   "cell_type": "code",
   "execution_count": 18,
   "metadata": {},
   "outputs": [],
   "source": [
    "import networkx as nx\n",
    "import re\n",
    "from collections import deque # for popping from the left of a list\n",
    "import matplotlib.pyplot as plt\n",
    "%matplotlib inline"
   ]
  },
  {
   "cell_type": "code",
   "execution_count": 8,
   "metadata": {},
   "outputs": [],
   "source": [
    "SEQUENCE = \"[XIC(A) [XIC(B) ,XIC(C) ] ,XIO(A) XIC(D) ]TON(E);\"\n",
    "\n",
    "spaces_removed_seq = re.sub(' ','',SEQUENCE)"
   ]
  },
  {
   "cell_type": "code",
   "execution_count": 46,
   "metadata": {},
   "outputs": [],
   "source": [
    "G = nx.Graph()\n",
    "G.add_node('start')\n",
    "\n",
    "paths_to_traverse = deque([('start',spaces_removed_seq)])"
   ]
  },
  {
   "cell_type": "code",
   "execution_count": 47,
   "metadata": {},
   "outputs": [
    {
     "name": "stdout",
     "output_type": "stream",
     "text": [
      "picking up from start to map sequence: [XIC(A)[XIC(B),XIC(C)],XIO(A)XIC(D)]TON(E);\n",
      "adding edge from start to XIC(A)\n",
      "working from XIC(A)\n",
      "picking back up from start\n",
      "adding edge from start to XIO(A)\n",
      "working from XIO(A)\n",
      "adding edge from XIO(A) to XIC(D)\n",
      "working from XIC(D)\n",
      "picking up from XIC(A) to map sequence: [XIC(B),XIC(C)]\n",
      "adding edge from XIC(A) to XIC(B)\n",
      "working from XIC(B)\n",
      "picking back up from XIC(A)\n",
      "adding edge from XIC(A) to XIC(C)\n",
      "working from XIC(C)\n"
     ]
    }
   ],
   "source": [
    "nodes_needing_termination = set()\n",
    "\n",
    "while paths_to_traverse:\n",
    "    current_node_name, work_seq = paths_to_traverse.popleft()\n",
    "    print(f\"picking up from {current_node_name} to map sequence: {work_seq}\")\n",
    "    \n",
    "    brackets_needing_closure = 0\n",
    "    start_of_closure_to_buffer = 0\n",
    "    branching_from_node = None\n",
    "\n",
    "    for idx,char in enumerate(work_seq):\n",
    "        if char == 'X' and brackets_needing_closure <= 1:\n",
    "            next_node_name = work_seq[idx:idx+6]\n",
    "            G.add_node(next_node_name)\n",
    "            G.add_edge(current_node_name, next_node_name)\n",
    "            try:\n",
    "                nodes_needing_termination.remove(current_node_name)\n",
    "            except:\n",
    "                pass\n",
    "            print(f\"adding edge from {current_node_name} to {next_node_name}\")\n",
    "            current_node_name = next_node_name\n",
    "            nodes_needing_termination.add(current_node_name)\n",
    "            print(f\"working from {current_node_name}\")\n",
    "        elif char == '[':\n",
    "            brackets_needing_closure += 1\n",
    "            if brackets_needing_closure == 1:\n",
    "                branching_from_node = current_node_name\n",
    "            elif brackets_needing_closure == 2:\n",
    "                start_of_closure_to_buffer = idx\n",
    "            \n",
    "        elif char == ']':\n",
    "            brackets_needing_closure -= 1\n",
    "            if brackets_needing_closure == 1:\n",
    "                paths_to_traverse.append((current_node_name,work_seq[start_of_closure_to_buffer:idx+1]))\n",
    "        elif char ==',' and brackets_needing_closure <= 1:\n",
    "            current_node_name = branching_from_node\n",
    "            print(f\"picking back up from {current_node_name}\")\n",
    "        elif char =='T':\n",
    "            terminating_node_name = work_seq[idx:idx+6]\n",
    "            G.add_node(terminating_node_name)\n",
    "            \n",
    "for unterminated_node in nodes_needing_termination:\n",
    "    G.add_edge(unterminated_node, terminating_node_name)"
   ]
  },
  {
   "cell_type": "code",
   "execution_count": 48,
   "metadata": {},
   "outputs": [
    {
     "data": {
      "image/png": "[encoded data removed]",
      "text/plain": [
       "<Figure size 432x288 with 1 Axes>"
      ]
     },
     "metadata": {},
     "output_type": "display_data"
    }
   ],
   "source": [
    "nx.draw(G, with_labels=True)\n",
    "plt.show()"
   ]
  },
  {
   "cell_type": "code",
   "execution_count": null,
   "metadata": {},
   "outputs": [],
   "source": []
  }
 ],
 "metadata": {
  "kernelspec": {
   "display_name": "Python [conda env:ear]",
   "language": "python",
   "name": "conda-env-ear-py"
  },
  "language_info": {
   "codemirror_mode": {
    "name": "ipython",
    "version": 3
   },
   "file_extension": ".py",
   "mimetype": "text/x-python",
   "name": "python",
   "nbconvert_exporter": "python",
   "pygments_lexer": "ipython3",
   "version": "3.6.5"
  }
 },
 "nbformat": 4,
 "nbformat_minor": 2
}
